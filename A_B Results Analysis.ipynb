{
 "cells": [
  {
   "cell_type": "markdown",
   "id": "8e8dd197",
   "metadata": {},
   "source": [
    "\n",
    "\n",
    "## A/B TESTS RESULTS "
   ]
  },
  {
   "cell_type": "markdown",
   "id": "db9658fc",
   "metadata": {},
   "source": [
    "### Overview\n",
    "\n",
    "The company has the results of A/B test under which the users recieved different sets of promotional offers.\n",
    "We know that APRU in Test Group is 5% higher than in Control Group.\n",
    "In Control Group 1928 out of 202103 users are paying, in the Test Group there are 1805 paying users out of 202667.\n",
    "\n",
    "What set of promotional offers is better? What metrcis should be taken into consideration to take a decision?\n",
    "\n"
   ]
  },
  {
   "cell_type": "markdown",
   "id": "a9e2c2dc",
   "metadata": {},
   "source": [
    "## Data Loading, Preparation and Initial Exploration"
   ]
  },
  {
   "cell_type": "code",
   "execution_count": 36,
   "id": "fdaf1a52",
   "metadata": {},
   "outputs": [],
   "source": [
    "# import required liabraries\n",
    "\n",
    "import pandas as pd\n",
    "import datetime\n",
    "import matplotlib.pyplot as plt\n",
    "import seaborn as sns\n",
    "import requests\n",
    "from urllib.parse import urlencode\n",
    "from scipy import stats\n",
    "import numpy as np\n",
    "from tqdm.auto import tqdm"
   ]
  },
  {
   "cell_type": "code",
   "execution_count": null,
   "id": "d36eb46a",
   "metadata": {},
   "outputs": [],
   "source": []
  },
  {
   "cell_type": "code",
   "execution_count": 3,
   "id": "8ff30d6b",
   "metadata": {},
   "outputs": [],
   "source": [
    "# The data is stored on Yandex disc, we use Yandex API:\n",
    "\n",
    "base_url = base_url = 'https://cloud-api.yandex.net/v1/disk/public/resources/download?'\n",
    "public_key = 'https://disk.yandex.ru/d/SOkIsD5A8xlI7Q'\n",
    "\n",
    "# get loading link\n",
    "\n",
    "\n",
    "final_url = base_url + urlencode(dict(public_key=public_key))\n",
    "response = requests.get(final_url)\n",
    "download_url = response.json()['href']\n",
    "\n",
    "\n",
    "# read the file\n",
    "df = pd.read_csv(download_url, sep=';')"
   ]
  },
  {
   "cell_type": "code",
   "execution_count": 4,
   "id": "07e0bbde",
   "metadata": {},
   "outputs": [
    {
     "data": {
      "text/html": [
       "<div>\n",
       "<style scoped>\n",
       "    .dataframe tbody tr th:only-of-type {\n",
       "        vertical-align: middle;\n",
       "    }\n",
       "\n",
       "    .dataframe tbody tr th {\n",
       "        vertical-align: top;\n",
       "    }\n",
       "\n",
       "    .dataframe thead th {\n",
       "        text-align: right;\n",
       "    }\n",
       "</style>\n",
       "<table border=\"1\" class=\"dataframe\">\n",
       "  <thead>\n",
       "    <tr style=\"text-align: right;\">\n",
       "      <th></th>\n",
       "      <th>user_id</th>\n",
       "      <th>revenue</th>\n",
       "      <th>testgroup</th>\n",
       "    </tr>\n",
       "  </thead>\n",
       "  <tbody>\n",
       "    <tr>\n",
       "      <th>0</th>\n",
       "      <td>1</td>\n",
       "      <td>0</td>\n",
       "      <td>b</td>\n",
       "    </tr>\n",
       "    <tr>\n",
       "      <th>1</th>\n",
       "      <td>2</td>\n",
       "      <td>0</td>\n",
       "      <td>a</td>\n",
       "    </tr>\n",
       "    <tr>\n",
       "      <th>2</th>\n",
       "      <td>3</td>\n",
       "      <td>0</td>\n",
       "      <td>a</td>\n",
       "    </tr>\n",
       "    <tr>\n",
       "      <th>3</th>\n",
       "      <td>4</td>\n",
       "      <td>0</td>\n",
       "      <td>b</td>\n",
       "    </tr>\n",
       "    <tr>\n",
       "      <th>4</th>\n",
       "      <td>5</td>\n",
       "      <td>0</td>\n",
       "      <td>b</td>\n",
       "    </tr>\n",
       "  </tbody>\n",
       "</table>\n",
       "</div>"
      ],
      "text/plain": [
       "   user_id  revenue testgroup\n",
       "0        1        0         b\n",
       "1        2        0         a\n",
       "2        3        0         a\n",
       "3        4        0         b\n",
       "4        5        0         b"
      ]
     },
     "execution_count": 4,
     "metadata": {},
     "output_type": "execute_result"
    }
   ],
   "source": [
    "df.head()"
   ]
  },
  {
   "cell_type": "code",
   "execution_count": 5,
   "id": "1e1df890",
   "metadata": {},
   "outputs": [
    {
     "data": {
      "text/plain": [
       "(404770, 3)"
      ]
     },
     "execution_count": 5,
     "metadata": {},
     "output_type": "execute_result"
    }
   ],
   "source": [
    "# check the size of the dataset\n",
    "df.shape"
   ]
  },
  {
   "cell_type": "code",
   "execution_count": 6,
   "id": "5739235f",
   "metadata": {},
   "outputs": [
    {
     "data": {
      "text/plain": [
       "user_id       int64\n",
       "revenue       int64\n",
       "testgroup    object\n",
       "dtype: object"
      ]
     },
     "execution_count": 6,
     "metadata": {},
     "output_type": "execute_result"
    }
   ],
   "source": [
    "# check types\n",
    "df.dtypes"
   ]
  },
  {
   "cell_type": "code",
   "execution_count": 7,
   "id": "d67238e4",
   "metadata": {},
   "outputs": [
    {
     "data": {
      "text/plain": [
       "user_id      0\n",
       "revenue      0\n",
       "testgroup    0\n",
       "dtype: int64"
      ]
     },
     "execution_count": 7,
     "metadata": {},
     "output_type": "execute_result"
    }
   ],
   "source": [
    "# check NAs\n",
    "df.isna().sum()\n",
    "\n",
    "# there are no NA cells"
   ]
  },
  {
   "cell_type": "code",
   "execution_count": 8,
   "id": "356cd0c7",
   "metadata": {},
   "outputs": [
    {
     "data": {
      "text/plain": [
       "404770"
      ]
     },
     "execution_count": 8,
     "metadata": {},
     "output_type": "execute_result"
    }
   ],
   "source": [
    "# check duplicates\n",
    "df['user_id'].nunique()\n",
    "# the number of unique users is equal to number of rows, which means there are no duplicates in ID numbers"
   ]
  },
  {
   "cell_type": "code",
   "execution_count": 9,
   "id": "530beb8a",
   "metadata": {},
   "outputs": [
    {
     "data": {
      "text/html": [
       "<div>\n",
       "<style scoped>\n",
       "    .dataframe tbody tr th:only-of-type {\n",
       "        vertical-align: middle;\n",
       "    }\n",
       "\n",
       "    .dataframe tbody tr th {\n",
       "        vertical-align: top;\n",
       "    }\n",
       "\n",
       "    .dataframe thead th {\n",
       "        text-align: right;\n",
       "    }\n",
       "</style>\n",
       "<table border=\"1\" class=\"dataframe\">\n",
       "  <thead>\n",
       "    <tr style=\"text-align: right;\">\n",
       "      <th></th>\n",
       "      <th>count</th>\n",
       "      <th>mean</th>\n",
       "      <th>std</th>\n",
       "      <th>min</th>\n",
       "      <th>25%</th>\n",
       "      <th>50%</th>\n",
       "      <th>75%</th>\n",
       "      <th>max</th>\n",
       "    </tr>\n",
       "    <tr>\n",
       "      <th>testgroup</th>\n",
       "      <th></th>\n",
       "      <th></th>\n",
       "      <th></th>\n",
       "      <th></th>\n",
       "      <th></th>\n",
       "      <th></th>\n",
       "      <th></th>\n",
       "      <th></th>\n",
       "    </tr>\n",
       "  </thead>\n",
       "  <tbody>\n",
       "    <tr>\n",
       "      <th>a</th>\n",
       "      <td>202103.0</td>\n",
       "      <td>25.413720</td>\n",
       "      <td>920.768137</td>\n",
       "      <td>0.0</td>\n",
       "      <td>0.0</td>\n",
       "      <td>0.0</td>\n",
       "      <td>0.0</td>\n",
       "      <td>37433.0</td>\n",
       "    </tr>\n",
       "    <tr>\n",
       "      <th>b</th>\n",
       "      <td>202667.0</td>\n",
       "      <td>26.751287</td>\n",
       "      <td>287.324162</td>\n",
       "      <td>0.0</td>\n",
       "      <td>0.0</td>\n",
       "      <td>0.0</td>\n",
       "      <td>0.0</td>\n",
       "      <td>4000.0</td>\n",
       "    </tr>\n",
       "  </tbody>\n",
       "</table>\n",
       "</div>"
      ],
      "text/plain": [
       "              count       mean         std  min  25%  50%  75%      max\n",
       "testgroup                                                              \n",
       "a          202103.0  25.413720  920.768137  0.0  0.0  0.0  0.0  37433.0\n",
       "b          202667.0  26.751287  287.324162  0.0  0.0  0.0  0.0   4000.0"
      ]
     },
     "execution_count": 9,
     "metadata": {},
     "output_type": "execute_result"
    }
   ],
   "source": [
    "# explore statistics in each group\n",
    "df.groupby('testgroup').describe()['revenue']"
   ]
  },
  {
   "cell_type": "code",
   "execution_count": 10,
   "id": "76f4bf93",
   "metadata": {},
   "outputs": [],
   "source": [
    "# divide users into subgroups (control and test in general, and paying users in both control and test groups) \n",
    "users_a = df.query('testgroup==\"a\"')\n",
    "users_b = df.query('testgroup==\"b\"')\n",
    "paying_a = users_a.query('revenue>0')\n",
    "paying_b = users_b.query('revenue>0')"
   ]
  },
  {
   "cell_type": "code",
   "execution_count": 11,
   "id": "27b6b02b",
   "metadata": {},
   "outputs": [
    {
     "data": {
      "text/plain": [
       "Text(0.5, 1.0, 'Group A')"
      ]
     },
     "execution_count": 11,
     "metadata": {},
     "output_type": "execute_result"
    },
    {
     "data": {
      "image/png": "[encoded data removed]",
      "text/plain": [
       "<Figure size 600x600 with 1 Axes>"
      ]
     },
     "metadata": {},
     "output_type": "display_data"
    }
   ],
   "source": [
    "# visualisiton of revenue in the groups\n",
    "\n",
    "plt.figure(figsize=[6, 6])\n",
    "users_a.revenue.hist(bins=60, color='slategrey')\n",
    "plt.title(\"Group A\")\n",
    "\n"
   ]
  },
  {
   "cell_type": "code",
   "execution_count": 12,
   "id": "1917442d",
   "metadata": {},
   "outputs": [
    {
     "data": {
      "text/plain": [
       "Text(0.5, 1.0, 'Group B')"
      ]
     },
     "execution_count": 12,
     "metadata": {},
     "output_type": "execute_result"
    },
    {
     "data": {
      "image/png": "[encoded data removed]",
      "text/plain": [
       "<Figure size 600x600 with 1 Axes>"
      ]
     },
     "metadata": {},
     "output_type": "display_data"
    }
   ],
   "source": [
    "plt.figure(figsize=[6, 6])\n",
    "users_b.revenue.hist(bins=60, color='peru')\n",
    "plt.title(\"Group B\")"
   ]
  },
  {
   "cell_type": "markdown",
   "id": "4ff20754",
   "metadata": {},
   "source": [
    "Based on the initial exploration and visualization  we can see that:\n",
    " - major part of users did not bring any revenue\n",
    " - there is a huge difference in the maximum amount of cheque per user (37433 for Group A and 4000 for Gorup B)"
   ]
  },
  {
   "cell_type": "markdown",
   "id": "029143d1",
   "metadata": {},
   "source": [
    "## METRICS\n",
    "\n",
    "### Conversion into payer"
   ]
  },
  {
   "cell_type": "code",
   "execution_count": 13,
   "id": "b3186828",
   "metadata": {},
   "outputs": [
    {
     "data": {
      "text/html": [
       "<div>\n",
       "<style scoped>\n",
       "    .dataframe tbody tr th:only-of-type {\n",
       "        vertical-align: middle;\n",
       "    }\n",
       "\n",
       "    .dataframe tbody tr th {\n",
       "        vertical-align: top;\n",
       "    }\n",
       "\n",
       "    .dataframe thead th {\n",
       "        text-align: right;\n",
       "    }\n",
       "</style>\n",
       "<table border=\"1\" class=\"dataframe\">\n",
       "  <thead>\n",
       "    <tr style=\"text-align: right;\">\n",
       "      <th></th>\n",
       "      <th>testgroup</th>\n",
       "      <th>total_no</th>\n",
       "    </tr>\n",
       "  </thead>\n",
       "  <tbody>\n",
       "    <tr>\n",
       "      <th>0</th>\n",
       "      <td>a</td>\n",
       "      <td>202103</td>\n",
       "    </tr>\n",
       "    <tr>\n",
       "      <th>1</th>\n",
       "      <td>b</td>\n",
       "      <td>202667</td>\n",
       "    </tr>\n",
       "  </tbody>\n",
       "</table>\n",
       "</div>"
      ],
      "text/plain": [
       "  testgroup  total_no\n",
       "0         a    202103\n",
       "1         b    202667"
      ]
     },
     "execution_count": 13,
     "metadata": {},
     "output_type": "execute_result"
    }
   ],
   "source": [
    "# number of users in each group\n",
    "\n",
    "user_count = df.groupby('testgroup', as_index=False).agg({'user_id':'count'}).rename(columns={'user_id':'total_no'})\n",
    "user_count"
   ]
  },
  {
   "cell_type": "code",
   "execution_count": 14,
   "id": "39ff8e07",
   "metadata": {},
   "outputs": [
    {
     "data": {
      "text/html": [
       "<div>\n",
       "<style scoped>\n",
       "    .dataframe tbody tr th:only-of-type {\n",
       "        vertical-align: middle;\n",
       "    }\n",
       "\n",
       "    .dataframe tbody tr th {\n",
       "        vertical-align: top;\n",
       "    }\n",
       "\n",
       "    .dataframe thead th {\n",
       "        text-align: right;\n",
       "    }\n",
       "</style>\n",
       "<table border=\"1\" class=\"dataframe\">\n",
       "  <thead>\n",
       "    <tr style=\"text-align: right;\">\n",
       "      <th></th>\n",
       "      <th>user_id</th>\n",
       "      <th>revenue</th>\n",
       "      <th>testgroup</th>\n",
       "      <th>user_type</th>\n",
       "    </tr>\n",
       "  </thead>\n",
       "  <tbody>\n",
       "    <tr>\n",
       "      <th>0</th>\n",
       "      <td>1</td>\n",
       "      <td>0</td>\n",
       "      <td>b</td>\n",
       "      <td>non-paying</td>\n",
       "    </tr>\n",
       "    <tr>\n",
       "      <th>1</th>\n",
       "      <td>2</td>\n",
       "      <td>0</td>\n",
       "      <td>a</td>\n",
       "      <td>non-paying</td>\n",
       "    </tr>\n",
       "    <tr>\n",
       "      <th>2</th>\n",
       "      <td>3</td>\n",
       "      <td>0</td>\n",
       "      <td>a</td>\n",
       "      <td>non-paying</td>\n",
       "    </tr>\n",
       "    <tr>\n",
       "      <th>3</th>\n",
       "      <td>4</td>\n",
       "      <td>0</td>\n",
       "      <td>b</td>\n",
       "      <td>non-paying</td>\n",
       "    </tr>\n",
       "    <tr>\n",
       "      <th>4</th>\n",
       "      <td>5</td>\n",
       "      <td>0</td>\n",
       "      <td>b</td>\n",
       "      <td>non-paying</td>\n",
       "    </tr>\n",
       "  </tbody>\n",
       "</table>\n",
       "</div>"
      ],
      "text/plain": [
       "   user_id  revenue testgroup   user_type\n",
       "0        1        0         b  non-paying\n",
       "1        2        0         a  non-paying\n",
       "2        3        0         a  non-paying\n",
       "3        4        0         b  non-paying\n",
       "4        5        0         b  non-paying"
      ]
     },
     "execution_count": 14,
     "metadata": {},
     "output_type": "execute_result"
    }
   ],
   "source": [
    "# create nominative variable which will reflect whether user is paying or non-paying\n",
    "df['user_type'] = df['revenue'].apply(lambda x: 'paying' if x > 0 else 'non-paying')\n",
    "df.head()"
   ]
  },
  {
   "cell_type": "code",
   "execution_count": 15,
   "id": "95c9dcbf",
   "metadata": {},
   "outputs": [
    {
     "data": {
      "text/html": [
       "<div>\n",
       "<style scoped>\n",
       "    .dataframe tbody tr th:only-of-type {\n",
       "        vertical-align: middle;\n",
       "    }\n",
       "\n",
       "    .dataframe tbody tr th {\n",
       "        vertical-align: top;\n",
       "    }\n",
       "\n",
       "    .dataframe thead th {\n",
       "        text-align: right;\n",
       "    }\n",
       "</style>\n",
       "<table border=\"1\" class=\"dataframe\">\n",
       "  <thead>\n",
       "    <tr style=\"text-align: right;\">\n",
       "      <th>user_type</th>\n",
       "      <th>non-paying</th>\n",
       "      <th>paying</th>\n",
       "    </tr>\n",
       "    <tr>\n",
       "      <th>testgroup</th>\n",
       "      <th></th>\n",
       "      <th></th>\n",
       "    </tr>\n",
       "  </thead>\n",
       "  <tbody>\n",
       "    <tr>\n",
       "      <th>a</th>\n",
       "      <td>200175</td>\n",
       "      <td>1928</td>\n",
       "    </tr>\n",
       "    <tr>\n",
       "      <th>b</th>\n",
       "      <td>200862</td>\n",
       "      <td>1805</td>\n",
       "    </tr>\n",
       "  </tbody>\n",
       "</table>\n",
       "</div>"
      ],
      "text/plain": [
       "user_type  non-paying  paying\n",
       "testgroup                    \n",
       "a              200175    1928\n",
       "b              200862    1805"
      ]
     },
     "execution_count": 15,
     "metadata": {},
     "output_type": "execute_result"
    }
   ],
   "source": [
    "# apply crosstab function to find the distribution of users by the group and by the paying factor \n",
    "# (paying or non-paying)\n",
    "\n",
    "df_crosstab = pd.crosstab(df['testgroup'], df['user_type'])\n",
    "df_crosstab\n"
   ]
  },
  {
   "cell_type": "code",
   "execution_count": 16,
   "id": "fef6efc9",
   "metadata": {},
   "outputs": [
    {
     "data": {
      "text/html": [
       "<div>\n",
       "<style scoped>\n",
       "    .dataframe tbody tr th:only-of-type {\n",
       "        vertical-align: middle;\n",
       "    }\n",
       "\n",
       "    .dataframe tbody tr th {\n",
       "        vertical-align: top;\n",
       "    }\n",
       "\n",
       "    .dataframe thead th {\n",
       "        text-align: right;\n",
       "    }\n",
       "</style>\n",
       "<table border=\"1\" class=\"dataframe\">\n",
       "  <thead>\n",
       "    <tr style=\"text-align: right;\">\n",
       "      <th></th>\n",
       "      <th>testgroup</th>\n",
       "      <th>non-paying</th>\n",
       "      <th>paying</th>\n",
       "      <th>total_no</th>\n",
       "    </tr>\n",
       "  </thead>\n",
       "  <tbody>\n",
       "    <tr>\n",
       "      <th>0</th>\n",
       "      <td>a</td>\n",
       "      <td>200175</td>\n",
       "      <td>1928</td>\n",
       "      <td>202103</td>\n",
       "    </tr>\n",
       "    <tr>\n",
       "      <th>1</th>\n",
       "      <td>b</td>\n",
       "      <td>200862</td>\n",
       "      <td>1805</td>\n",
       "      <td>202667</td>\n",
       "    </tr>\n",
       "  </tbody>\n",
       "</table>\n",
       "</div>"
      ],
      "text/plain": [
       "  testgroup  non-paying  paying  total_no\n",
       "0         a      200175    1928    202103\n",
       "1         b      200862    1805    202667"
      ]
     },
     "execution_count": 16,
     "metadata": {},
     "output_type": "execute_result"
    }
   ],
   "source": [
    "# merge tables with total numbers of users and distribution of users by type\n",
    "df_conversion = df_crosstab.merge(user_count, on='testgroup')\n",
    "df_conversion"
   ]
  },
  {
   "cell_type": "code",
   "execution_count": 17,
   "id": "eaa2cf01",
   "metadata": {},
   "outputs": [
    {
     "data": {
      "text/html": [
       "<div>\n",
       "<style scoped>\n",
       "    .dataframe tbody tr th:only-of-type {\n",
       "        vertical-align: middle;\n",
       "    }\n",
       "\n",
       "    .dataframe tbody tr th {\n",
       "        vertical-align: top;\n",
       "    }\n",
       "\n",
       "    .dataframe thead th {\n",
       "        text-align: right;\n",
       "    }\n",
       "</style>\n",
       "<table border=\"1\" class=\"dataframe\">\n",
       "  <thead>\n",
       "    <tr style=\"text-align: right;\">\n",
       "      <th></th>\n",
       "      <th>testgroup</th>\n",
       "      <th>non-paying</th>\n",
       "      <th>paying</th>\n",
       "      <th>total_no</th>\n",
       "      <th>CR</th>\n",
       "    </tr>\n",
       "  </thead>\n",
       "  <tbody>\n",
       "    <tr>\n",
       "      <th>0</th>\n",
       "      <td>a</td>\n",
       "      <td>200175</td>\n",
       "      <td>1928</td>\n",
       "      <td>202103</td>\n",
       "      <td>0.954</td>\n",
       "    </tr>\n",
       "    <tr>\n",
       "      <th>1</th>\n",
       "      <td>b</td>\n",
       "      <td>200862</td>\n",
       "      <td>1805</td>\n",
       "      <td>202667</td>\n",
       "      <td>0.891</td>\n",
       "    </tr>\n",
       "  </tbody>\n",
       "</table>\n",
       "</div>"
      ],
      "text/plain": [
       "  testgroup  non-paying  paying  total_no     CR\n",
       "0         a      200175    1928    202103  0.954\n",
       "1         b      200862    1805    202667  0.891"
      ]
     },
     "execution_count": 17,
     "metadata": {},
     "output_type": "execute_result"
    }
   ],
   "source": [
    "df_conversion['CR'] = round(df_conversion['paying'] / df_conversion['total_no'] * 100, 3)\n",
    "df_conversion"
   ]
  },
  {
   "cell_type": "code",
   "execution_count": 18,
   "id": "bd8bc4fa",
   "metadata": {},
   "outputs": [
    {
     "data": {
      "text/html": [
       "<div>\n",
       "<style scoped>\n",
       "    .dataframe tbody tr th:only-of-type {\n",
       "        vertical-align: middle;\n",
       "    }\n",
       "\n",
       "    .dataframe tbody tr th {\n",
       "        vertical-align: top;\n",
       "    }\n",
       "\n",
       "    .dataframe thead th {\n",
       "        text-align: right;\n",
       "    }\n",
       "</style>\n",
       "<table border=\"1\" class=\"dataframe\">\n",
       "  <thead>\n",
       "    <tr style=\"text-align: right;\">\n",
       "      <th></th>\n",
       "      <th>p.p.</th>\n",
       "      <th>%</th>\n",
       "    </tr>\n",
       "  </thead>\n",
       "  <tbody>\n",
       "    <tr>\n",
       "      <th>0</th>\n",
       "      <td>-0.06</td>\n",
       "      <td>-6.6</td>\n",
       "    </tr>\n",
       "  </tbody>\n",
       "</table>\n",
       "</div>"
      ],
      "text/plain": [
       "   p.p.    %\n",
       "0 -0.06 -6.6"
      ]
     },
     "execution_count": 18,
     "metadata": {},
     "output_type": "execute_result"
    }
   ],
   "source": [
    "# calculate difference in Converison Rate in p.p. and %\n",
    "pd.DataFrame({\n",
    "    'p.p.': [(round(df_conversion.CR[1] - df_conversion.CR[0], 2))],\n",
    "    '%': [round((df_conversion.CR[1] * 100 / df_conversion.CR[0]) - 100, 2)]\n",
    "})"
   ]
  },
  {
   "cell_type": "markdown",
   "id": "d8e1871b",
   "metadata": {},
   "source": [
    "Based on the above calculations we can see that the conversion in Group B decreased by 0.06 p.p. or 6.6%"
   ]
  },
  {
   "cell_type": "markdown",
   "id": "95a023df",
   "metadata": {},
   "source": [
    "### ARPU"
   ]
  },
  {
   "cell_type": "code",
   "execution_count": 19,
   "id": "25c1b1b7",
   "metadata": {},
   "outputs": [
    {
     "name": "stdout",
     "output_type": "stream",
     "text": [
      "ARPU for Group A: 25.41\n",
      "ARPU for Group B: 26.75\n",
      "Difference: 5.0%\n"
     ]
    }
   ],
   "source": [
    "# calculate ARPU for both the group, determine the difference\n",
    "arpu_a = round(users_a.revenue.sum() / users_a.revenue.count(), 2)\n",
    "arpu_b = round(users_b.revenue.sum() / users_b.revenue.count(), 2)\n",
    "arpu_diff = round((arpu_b - arpu_a) / arpu_b * 100, 0)\n",
    "print(f'ARPU for Group A: {arpu_a}')\n",
    "print(f'ARPU for Group B: {arpu_b}')\n",
    "print(f'Difference: {arpu_diff}%')"
   ]
  },
  {
   "cell_type": "markdown",
   "id": "b95c0cd7",
   "metadata": {},
   "source": [
    "From the above calculation we see that ARPU in Group B is 5% higher than in Group A, we can conclude (based on the information provided) that Group B is Test Group and Group A is Control Group."
   ]
  },
  {
   "cell_type": "markdown",
   "id": "9fc326c1",
   "metadata": {},
   "source": [
    "### REVENUES"
   ]
  },
  {
   "cell_type": "code",
   "execution_count": 20,
   "id": "4cbf42d6",
   "metadata": {},
   "outputs": [
    {
     "data": {
      "image/png": "[encoded data removed]",
      "text/plain": [
       "<Figure size 500x500 with 1 Axes>"
      ]
     },
     "metadata": {},
     "output_type": "display_data"
    }
   ],
   "source": [
    "# visualize revenue for Group A\n",
    "sns.displot(paying_a.revenue, bins=10, color='slategrey')\n",
    "plt.title(\"Control Group\")\n",
    "plt.show()"
   ]
  },
  {
   "cell_type": "code",
   "execution_count": 21,
   "id": "f3ccc234",
   "metadata": {},
   "outputs": [
    {
     "data": {
      "image/png": "[encoded data removed]",
      "text/plain": [
       "<Figure size 500x500 with 1 Axes>"
      ]
     },
     "metadata": {},
     "output_type": "display_data"
    }
   ],
   "source": [
    "# visualize revenue for Group B\n",
    "sns.displot(paying_b.revenue, bins=10, color='peru')\n",
    "plt.title(\"Test Group\")\n",
    "plt.show()"
   ]
  },
  {
   "cell_type": "code",
   "execution_count": null,
   "id": "543c106a",
   "metadata": {},
   "outputs": [],
   "source": []
  },
  {
   "cell_type": "markdown",
   "id": "832a687e",
   "metadata": {},
   "source": [
    "The first thing which is obvious from the visualization is that there are outliers in the Control Group.\n",
    "To make further tests more correct, we can divide thw Control Group into 2 sub-groups: the whole groups and the group without outliers"
   ]
  },
  {
   "cell_type": "code",
   "execution_count": 22,
   "id": "650a5472",
   "metadata": {},
   "outputs": [
    {
     "data": {
      "text/html": [
       "<div>\n",
       "<style scoped>\n",
       "    .dataframe tbody tr th:only-of-type {\n",
       "        vertical-align: middle;\n",
       "    }\n",
       "\n",
       "    .dataframe tbody tr th {\n",
       "        vertical-align: top;\n",
       "    }\n",
       "\n",
       "    .dataframe thead th {\n",
       "        text-align: right;\n",
       "    }\n",
       "</style>\n",
       "<table border=\"1\" class=\"dataframe\">\n",
       "  <thead>\n",
       "    <tr style=\"text-align: right;\">\n",
       "      <th></th>\n",
       "      <th>user_id</th>\n",
       "      <th>revenue</th>\n",
       "      <th>testgroup</th>\n",
       "    </tr>\n",
       "  </thead>\n",
       "  <tbody>\n",
       "    <tr>\n",
       "      <th>0</th>\n",
       "      <td>73</td>\n",
       "      <td>351</td>\n",
       "      <td>a</td>\n",
       "    </tr>\n",
       "    <tr>\n",
       "      <th>1</th>\n",
       "      <td>161</td>\n",
       "      <td>3797</td>\n",
       "      <td>b</td>\n",
       "    </tr>\n",
       "    <tr>\n",
       "      <th>2</th>\n",
       "      <td>342</td>\n",
       "      <td>290</td>\n",
       "      <td>a</td>\n",
       "    </tr>\n",
       "    <tr>\n",
       "      <th>3</th>\n",
       "      <td>378</td>\n",
       "      <td>3768</td>\n",
       "      <td>b</td>\n",
       "    </tr>\n",
       "    <tr>\n",
       "      <th>4</th>\n",
       "      <td>386</td>\n",
       "      <td>250</td>\n",
       "      <td>a</td>\n",
       "    </tr>\n",
       "  </tbody>\n",
       "</table>\n",
       "</div>"
      ],
      "text/plain": [
       "   user_id  revenue testgroup\n",
       "0       73      351         a\n",
       "1      161     3797         b\n",
       "2      342      290         a\n",
       "3      378     3768         b\n",
       "4      386      250         a"
      ]
     },
     "execution_count": 22,
     "metadata": {},
     "output_type": "execute_result"
    }
   ],
   "source": [
    "# keep only paying users from the main dataframe\n",
    "df_ab_paying = df.query('revenue != 0').reset_index().drop(columns=['index', 'user_type'])\n",
    "df_ab_paying.head()"
   ]
  },
  {
   "cell_type": "code",
   "execution_count": 23,
   "id": "a5022b68",
   "metadata": {},
   "outputs": [
    {
     "data": {
      "text/plain": [
       "([<matplotlib.axis.XTick at 0x16018c5d0>,\n",
       "  <matplotlib.axis.XTick at 0x16017b390>],\n",
       " [Text(0, 0, 'Control'), Text(1, 0, 'Test')])"
      ]
     },
     "execution_count": 23,
     "metadata": {},
     "output_type": "execute_result"
    },
    {
     "data": {
      "image/png": "[encoded data removed]",
      "text/plain": [
       "<Figure size 640x480 with 1 Axes>"
      ]
     },
     "metadata": {},
     "output_type": "display_data"
    }
   ],
   "source": [
    "# boxplot для дохода по контрольной (А) и тестовой группу (В)\n",
    "\n",
    "group_names = ['Control', 'Test']\n",
    "\n",
    "sns.boxplot(x='testgroup', y='revenue', data=df_ab_paying, showmeans=True)\n",
    "plt.title('Revenue For Each Group Boxplot\\n', fontsize=15)\n",
    "plt.xlabel('')\n",
    "plt.ylabel('Revenue')\n",
    "plt.xticks([0, 1], group_names, fontsize=15)"
   ]
  },
  {
   "cell_type": "code",
   "execution_count": 24,
   "id": "f15a218f",
   "metadata": {},
   "outputs": [
    {
     "data": {
      "text/plain": [
       "0.75      361.00\n",
       "0.90      393.30\n",
       "0.95    37299.65\n",
       "0.93      399.00\n",
       "0.94    37295.00\n",
       "Name: revenue, dtype: float64"
      ]
     },
     "execution_count": 24,
     "metadata": {},
     "output_type": "execute_result"
    }
   ],
   "source": [
    "# try to find the maximum value before the outliers in order to divide the group \n",
    "\n",
    "df_ab_paying.query('testgroup == \"a\"').revenue.quantile([0.75, 0.9, 0.95, 0.93, 0.94])\n",
    "\n",
    "# before the outliers the maximum value is 399"
   ]
  },
  {
   "cell_type": "code",
   "execution_count": 25,
   "id": "54dbf6a0",
   "metadata": {},
   "outputs": [
    {
     "data": {
      "text/html": [
       "<div>\n",
       "<style scoped>\n",
       "    .dataframe tbody tr th:only-of-type {\n",
       "        vertical-align: middle;\n",
       "    }\n",
       "\n",
       "    .dataframe tbody tr th {\n",
       "        vertical-align: top;\n",
       "    }\n",
       "\n",
       "    .dataframe thead th {\n",
       "        text-align: right;\n",
       "    }\n",
       "</style>\n",
       "<table border=\"1\" class=\"dataframe\">\n",
       "  <thead>\n",
       "    <tr style=\"text-align: right;\">\n",
       "      <th></th>\n",
       "      <th>user_id</th>\n",
       "      <th>revenue</th>\n",
       "      <th>testgroup</th>\n",
       "    </tr>\n",
       "  </thead>\n",
       "  <tbody>\n",
       "    <tr>\n",
       "      <th>183</th>\n",
       "      <td>19496</td>\n",
       "      <td>37293</td>\n",
       "      <td>a</td>\n",
       "    </tr>\n",
       "    <tr>\n",
       "      <th>740</th>\n",
       "      <td>81478</td>\n",
       "      <td>37294</td>\n",
       "      <td>a</td>\n",
       "    </tr>\n",
       "    <tr>\n",
       "      <th>2161</th>\n",
       "      <td>235859</td>\n",
       "      <td>37294</td>\n",
       "      <td>a</td>\n",
       "    </tr>\n",
       "    <tr>\n",
       "      <th>2334</th>\n",
       "      <td>254114</td>\n",
       "      <td>37294</td>\n",
       "      <td>a</td>\n",
       "    </tr>\n",
       "    <tr>\n",
       "      <th>315</th>\n",
       "      <td>34535</td>\n",
       "      <td>37294</td>\n",
       "      <td>a</td>\n",
       "    </tr>\n",
       "  </tbody>\n",
       "</table>\n",
       "</div>"
      ],
      "text/plain": [
       "      user_id  revenue testgroup\n",
       "183     19496    37293         a\n",
       "740     81478    37294         a\n",
       "2161   235859    37294         a\n",
       "2334   254114    37294         a\n",
       "315     34535    37294         a"
      ]
     },
     "execution_count": 25,
     "metadata": {},
     "output_type": "execute_result"
    }
   ],
   "source": [
    "# sub-group from Group A with the revenue more than 400 > 400 \n",
    "df_ab_paying.query('revenue > 400 and testgroup == \"a\"').sort_values('revenue').head()"
   ]
  },
  {
   "cell_type": "code",
   "execution_count": 26,
   "id": "b75f2be1",
   "metadata": {},
   "outputs": [
    {
     "data": {
      "text/html": [
       "<div>\n",
       "<style scoped>\n",
       "    .dataframe tbody tr th:only-of-type {\n",
       "        vertical-align: middle;\n",
       "    }\n",
       "\n",
       "    .dataframe tbody tr th {\n",
       "        vertical-align: top;\n",
       "    }\n",
       "\n",
       "    .dataframe thead th {\n",
       "        text-align: right;\n",
       "    }\n",
       "</style>\n",
       "<table border=\"1\" class=\"dataframe\">\n",
       "  <thead>\n",
       "    <tr style=\"text-align: right;\">\n",
       "      <th></th>\n",
       "      <th>user_id</th>\n",
       "      <th>revenue</th>\n",
       "      <th>testgroup</th>\n",
       "    </tr>\n",
       "  </thead>\n",
       "  <tbody>\n",
       "    <tr>\n",
       "      <th>0</th>\n",
       "      <td>73</td>\n",
       "      <td>351</td>\n",
       "      <td>a</td>\n",
       "    </tr>\n",
       "    <tr>\n",
       "      <th>1</th>\n",
       "      <td>161</td>\n",
       "      <td>3797</td>\n",
       "      <td>b</td>\n",
       "    </tr>\n",
       "    <tr>\n",
       "      <th>2</th>\n",
       "      <td>342</td>\n",
       "      <td>290</td>\n",
       "      <td>a</td>\n",
       "    </tr>\n",
       "    <tr>\n",
       "      <th>3</th>\n",
       "      <td>378</td>\n",
       "      <td>3768</td>\n",
       "      <td>b</td>\n",
       "    </tr>\n",
       "    <tr>\n",
       "      <th>4</th>\n",
       "      <td>386</td>\n",
       "      <td>250</td>\n",
       "      <td>a</td>\n",
       "    </tr>\n",
       "    <tr>\n",
       "      <th>...</th>\n",
       "      <td>...</td>\n",
       "      <td>...</td>\n",
       "      <td>...</td>\n",
       "    </tr>\n",
       "    <tr>\n",
       "      <th>3728</th>\n",
       "      <td>404316</td>\n",
       "      <td>262</td>\n",
       "      <td>a</td>\n",
       "    </tr>\n",
       "    <tr>\n",
       "      <th>3729</th>\n",
       "      <td>404526</td>\n",
       "      <td>3120</td>\n",
       "      <td>b</td>\n",
       "    </tr>\n",
       "    <tr>\n",
       "      <th>3730</th>\n",
       "      <td>404544</td>\n",
       "      <td>369</td>\n",
       "      <td>a</td>\n",
       "    </tr>\n",
       "    <tr>\n",
       "      <th>3731</th>\n",
       "      <td>404603</td>\n",
       "      <td>251</td>\n",
       "      <td>a</td>\n",
       "    </tr>\n",
       "    <tr>\n",
       "      <th>3732</th>\n",
       "      <td>404768</td>\n",
       "      <td>231</td>\n",
       "      <td>a</td>\n",
       "    </tr>\n",
       "  </tbody>\n",
       "</table>\n",
       "<p>3610 rows × 3 columns</p>\n",
       "</div>"
      ],
      "text/plain": [
       "      user_id  revenue testgroup\n",
       "0          73      351         a\n",
       "1         161     3797         b\n",
       "2         342      290         a\n",
       "3         378     3768         b\n",
       "4         386      250         a\n",
       "...       ...      ...       ...\n",
       "3728   404316      262         a\n",
       "3729   404526     3120         b\n",
       "3730   404544      369         a\n",
       "3731   404603      251         a\n",
       "3732   404768      231         a\n",
       "\n",
       "[3610 rows x 3 columns]"
      ]
     },
     "execution_count": 26,
     "metadata": {},
     "output_type": "execute_result"
    }
   ],
   "source": [
    "# delete the customers with the highest revenues of Group A from the dataframe with paying customers\n",
    "ab_paying_without_outliers = df_ab_paying.query('~(revenue > 400 and testgroup == \"a\")')\n",
    "ab_paying_without_outliers"
   ]
  },
  {
   "cell_type": "code",
   "execution_count": 27,
   "id": "85669b4a",
   "metadata": {},
   "outputs": [],
   "source": [
    "# now we will have three groups of paying customers: Group A Full, Group A (wuthout outliers) and Group B\n",
    "\n",
    "paying_a_no_outliers = ab_paying_without_outliers.query('testgroup == \"a\"') \\\n",
    "                                          .reset_index() \\\n",
    "                                          .drop(columns='index')\n",
    "\n",
    "paying_a_full = paying_a\n",
    "\n",
    "paying_b_full = paying_b"
   ]
  },
  {
   "cell_type": "code",
   "execution_count": 28,
   "id": "da0cb8ce",
   "metadata": {},
   "outputs": [
    {
     "data": {
      "text/plain": [
       "([<matplotlib.axis.XTick at 0x16005efd0>,\n",
       "  <matplotlib.axis.XTick at 0x160207590>],\n",
       " [Text(0, 0, 'Control'), Text(1, 0, 'Test')])"
      ]
     },
     "execution_count": 28,
     "metadata": {},
     "output_type": "execute_result"
    },
    {
     "data": {
      "image/png": "[encoded data removed]",
      "text/plain": [
       "<Figure size 640x480 with 1 Axes>"
      ]
     },
     "metadata": {},
     "output_type": "display_data"
    }
   ],
   "source": [
    "# boxplot для дохода по контрольной группе без выбросов (А) и по тестовой группы (В)\n",
    "\n",
    "sns.boxplot(x='testgroup', y='revenue', data=ab_paying_without_outliers, showmeans=True)\n",
    "plt.title('Revenue For Each Group Boxplot\\n', fontsize=15)\n",
    "plt.xlabel('')\n",
    "plt.ylabel('Revenue')\n",
    "plt.xticks([0, 1], group_names, fontsize=15)"
   ]
  },
  {
   "cell_type": "markdown",
   "id": "f2d7324f",
   "metadata": {},
   "source": [
    "Удалив выбросы из контрольной группы видно, что среднее значение тестовой группы не входит 3*IQR контрольной группы, что предварительно может указывать на статистически значимые различия.\n",
    "Теперь визуально оценим распределения дохода для каждой группы."
   ]
  },
  {
   "cell_type": "markdown",
   "id": "8cfd43e4",
   "metadata": {},
   "source": [
    "Visualization of Revenue"
   ]
  },
  {
   "cell_type": "code",
   "execution_count": 35,
   "id": "c5a40f49",
   "metadata": {},
   "outputs": [
    {
     "data": {
      "image/png": "[encoded data removed]",
      "text/plain": [
       "<Figure size 2400x800 with 2 Axes>"
      ]
     },
     "metadata": {},
     "output_type": "display_data"
    }
   ],
   "source": [
    "# visualize the revenue for 2 groups: Group A (without outliers) and Group B. Will not plot the graph\n",
    "# for the full Group A as the outliers will distort the picture\n",
    "\n",
    "fig, axes = plt.subplots(nrows=1, ncols=2, figsize=(24, 8))  \n",
    "\n",
    "groups =  [paying_a_no_outliers, paying_b_full]\n",
    "\n",
    "for ax, title, group in zip(axes, group_names, groups):\n",
    "    sns.histplot(\n",
    "        data=group.revenue,\n",
    "        kde=True,\n",
    "        bins=50,\n",
    "        ax=ax,\n",
    "        color='slategrey')\n",
    "    ax.set(title=f'{title}\\n')\n",
    "    ax.set_xlabel('Revenue')\n",
    "    ax.title.set_fontsize(25)"
   ]
  },
  {
   "cell_type": "markdown",
   "id": "16f4e7bb",
   "metadata": {},
   "source": [
    "In both the groups the distributions are quite symmetric and do not have strong outliers, which can be a good base for t-Test"
   ]
  },
  {
   "cell_type": "markdown",
   "id": "e777512d",
   "metadata": {},
   "source": [
    "### ARPPU"
   ]
  },
  {
   "cell_type": "code",
   "execution_count": 30,
   "id": "e4027d8d",
   "metadata": {},
   "outputs": [
    {
     "data": {
      "text/html": [
       "<div>\n",
       "<style scoped>\n",
       "    .dataframe tbody tr th:only-of-type {\n",
       "        vertical-align: middle;\n",
       "    }\n",
       "\n",
       "    .dataframe tbody tr th {\n",
       "        vertical-align: top;\n",
       "    }\n",
       "\n",
       "    .dataframe thead th {\n",
       "        text-align: right;\n",
       "    }\n",
       "</style>\n",
       "<table border=\"1\" class=\"dataframe\">\n",
       "  <thead>\n",
       "    <tr style=\"text-align: right;\">\n",
       "      <th></th>\n",
       "      <th>control_group_no_outliers</th>\n",
       "      <th>control_group_full</th>\n",
       "      <th>test_group</th>\n",
       "    </tr>\n",
       "  </thead>\n",
       "  <tbody>\n",
       "    <tr>\n",
       "      <th>ARPPU</th>\n",
       "      <td>302.46</td>\n",
       "      <td>2664.0</td>\n",
       "      <td>3003.66</td>\n",
       "    </tr>\n",
       "  </tbody>\n",
       "</table>\n",
       "</div>"
      ],
      "text/plain": [
       "       control_group_no_outliers  control_group_full  test_group\n",
       "ARPPU                     302.46              2664.0     3003.66"
      ]
     },
     "execution_count": 30,
     "metadata": {},
     "output_type": "execute_result"
    }
   ],
   "source": [
    "# calculate ARPPU for all groups, which coincides with mean value\n",
    "ARPPU = pd.DataFrame({\n",
    "    'control_group_no_outliers': [paying_a_no_outliers.revenue.mean()],\n",
    "    'control_group_full': [paying_a_full.revenue.mean()],\n",
    "    'test_group': [paying_b_full.revenue.mean()]},\n",
    "    index=['ARPPU'])\n",
    "\n",
    "ARPPU.round(2)"
   ]
  },
  {
   "cell_type": "code",
   "execution_count": 31,
   "id": "b6e0574b",
   "metadata": {},
   "outputs": [
    {
     "name": "stdout",
     "output_type": "stream",
     "text": [
      "Difference between Test Group and  Control Group Without Outliers: 893.08%\n"
     ]
    }
   ],
   "source": [
    "arppu_diff_b_a_no_outliers = round(float((ARPPU['test_group'] * 100 / ARPPU['control_group_no_outliers']) - 100), 2)\n",
    "print(f'Difference between Test Group and  Control Group Without Outliers: {arppu_diff_b_a_no_outliers}%')        "
   ]
  },
  {
   "cell_type": "code",
   "execution_count": 32,
   "id": "23b5cc36",
   "metadata": {},
   "outputs": [
    {
     "name": "stdout",
     "output_type": "stream",
     "text": [
      "Difference between Test Group and Full Control Group: 12.75%\n"
     ]
    }
   ],
   "source": [
    "arppu_diff_b_a_full = round(float((ARPPU['test_group'] * 100 / ARPPU['control_group_full']) - 100),2)\n",
    "print(f'Difference between Test Group and Full Control Group: {arppu_diff_b_a_full}%')"
   ]
  },
  {
   "cell_type": "markdown",
   "id": "37b3f54c",
   "metadata": {},
   "source": [
    "### EXPLORING OUTLIERS"
   ]
  },
  {
   "cell_type": "code",
   "execution_count": null,
   "id": "d97a33fd",
   "metadata": {},
   "outputs": [],
   "source": []
  },
  {
   "cell_type": "code",
   "execution_count": null,
   "id": "aa03d966",
   "metadata": {},
   "outputs": [],
   "source": []
  },
  {
   "cell_type": "code",
   "execution_count": null,
   "id": "35ee40d5",
   "metadata": {},
   "outputs": [],
   "source": []
  },
  {
   "cell_type": "markdown",
   "id": "773a250e",
   "metadata": {},
   "source": [
    "## EVALUATION OF SIGNIFICANCE"
   ]
  },
  {
   "cell_type": "markdown",
   "id": "87bb59b3",
   "metadata": {},
   "source": [
    "### Significance of Change in the Conversion Rate"
   ]
  },
  {
   "cell_type": "code",
   "execution_count": 49,
   "id": "5e402c87",
   "metadata": {},
   "outputs": [
    {
     "data": {
      "text/plain": [
       "0.036"
      ]
     },
     "execution_count": 49,
     "metadata": {},
     "output_type": "execute_result"
    }
   ],
   "source": [
    "# since we have the categorical variable, we use chi-square test on the crosstable \n",
    "# that was prepared while calculating the CR\n",
    "# Null Hypothesis: The CR in the both groups is not significantly different\n",
    "# Alternative Hypothesis: The cR in the groups is different \n",
    "\n",
    "stats.chi2_contingency(df_crosstab)[1].round(3)\n"
   ]
  },
  {
   "cell_type": "markdown",
   "id": "88e18ef8",
   "metadata": {},
   "source": [
    "#### Conclusion of Chi-Square Test\n",
    "\n",
    "We received p-value=0.036 which is less than value of 0.05 (for our purposes assumed to be the border-point).\n",
    "We can DECLINE the Null Hypothesis on equality of conversion rates in groups A amd B"
   ]
  },
  {
   "cell_type": "markdown",
   "id": "1506f3bb",
   "metadata": {},
   "source": [
    "### Significance of Change in the ARPPU"
   ]
  },
  {
   "cell_type": "markdown",
   "id": "b4ebe638",
   "metadata": {},
   "source": [
    "#### Homoscedasticity"
   ]
  },
  {
   "cell_type": "code",
   "execution_count": 62,
   "id": "0166da40",
   "metadata": {},
   "outputs": [
    {
     "data": {
      "text/plain": [
       "LeveneResult(statistic=4256.810323520863, pvalue=0.0)"
      ]
     },
     "execution_count": 62,
     "metadata": {},
     "output_type": "execute_result"
    }
   ],
   "source": [
    "# check homoscedasticity of variane of Control Group (without outliers) and Test Group with Levene's test\n",
    "# H0: variance of the grups does not statustically differ\n",
    "\n",
    "stats.levene(paying_a_no_outliers.revenue, paying_b_full.revenue)[1]"
   ]
  },
  {
   "cell_type": "code",
   "execution_count": 52,
   "id": "c013f0f8",
   "metadata": {},
   "outputs": [
    {
     "data": {
      "text/plain": [
       "3.779689868667878e-19"
      ]
     },
     "execution_count": 52,
     "metadata": {},
     "output_type": "execute_result"
    }
   ],
   "source": [
    "# check homoscedasticity of variane of Full Control Group  and Test Group\n",
    "stats.levene(paying_a_full.revenue, paying_b_full.revenue)[1]"
   ]
  },
  {
   "cell_type": "markdown",
   "id": "edd2ed52",
   "metadata": {},
   "source": [
    "#### Normality"
   ]
  },
  {
   "cell_type": "code",
   "execution_count": 64,
   "id": "90411340",
   "metadata": {},
   "outputs": [
    {
     "data": {
      "text/plain": [
       "3.002848260644267e-23"
      ]
     },
     "execution_count": 64,
     "metadata": {},
     "output_type": "execute_result"
    }
   ],
   "source": [
    "# check distribution in the Control Group (without outliers) for normlality using Shapiro-Wilka test\n",
    "# H0: the distribution does not statistically differ from normal one\n",
    "stats.shapiro(paying_a_no_outliers.revenue)[1]"
   ]
  },
  {
   "cell_type": "code",
   "execution_count": 57,
   "id": "2a50b13d",
   "metadata": {},
   "outputs": [
    {
     "data": {
      "text/plain": [
       "0.0"
      ]
     },
     "execution_count": 57,
     "metadata": {},
     "output_type": "execute_result"
    }
   ],
   "source": [
    "# check distribution in the Control Group (full)\n",
    "stats.shapiro(paying_a_full.revenue)[1]"
   ]
  },
  {
   "cell_type": "code",
   "execution_count": 58,
   "id": "13ea524f",
   "metadata": {},
   "outputs": [
    {
     "data": {
      "text/plain": [
       "2.4929213770979496e-22"
      ]
     },
     "execution_count": 58,
     "metadata": {},
     "output_type": "execute_result"
    }
   ],
   "source": [
    "# check distribution in the Test Group \n",
    "stats.shapiro(paying_b_full.revenue)[1]"
   ]
  },
  {
   "cell_type": "markdown",
   "id": "340641c2",
   "metadata": {},
   "source": [
    "#### T-Tests"
   ]
  },
  {
   "cell_type": "code",
   "execution_count": 60,
   "id": "08fb9eab",
   "metadata": {},
   "outputs": [
    {
     "data": {
      "text/plain": [
       "0.11153459157259495"
      ]
     },
     "execution_count": 60,
     "metadata": {},
     "output_type": "execute_result"
    }
   ],
   "source": [
    "# T-Test for Full Control Group and Test Group\n",
    "\n",
    "stats.ttest_ind(paying_a_full.revenue, paying_b_full.revenue)[1]"
   ]
  },
  {
   "cell_type": "code",
   "execution_count": 61,
   "id": "dd19e2bb",
   "metadata": {},
   "outputs": [
    {
     "data": {
      "text/plain": [
       "0.0"
      ]
     },
     "execution_count": 61,
     "metadata": {},
     "output_type": "execute_result"
    }
   ],
   "source": [
    "# T-Test for  Control Group (without outliers) and Test Group\n",
    "stats.ttest_ind(paying_a_no_outliers.revenue, paying_b_full.revenue)[1]"
   ]
  },
  {
   "cell_type": "markdown",
   "id": "fb9645db",
   "metadata": {},
   "source": [
    "In the first t-test for Full Control Group and Test Group p-value>0.05 which makes it impossible to reject Null Hypothesis on equality of means.\n",
    "\n",
    "In the t-test for Control Group (without outliers) and Test-Group we received p-value < 0.05. However it seems to be risky to reject Null Hypothesis on equality of means especially keeping in mind the results of Levene's and Shapiro-Wilka tests (where we could not statistically proove the homoscedasticity and normality of distribution).\n",
    "\n",
    "To be sure that these groups' means statistically differ (and not to worry about homoscedasticity and normality). will use Mann–Whitney U test "
   ]
  },
  {
   "cell_type": "markdown",
   "id": "3e74325e",
   "metadata": {},
   "source": [
    "#### Mann–Whitney U test "
   ]
  },
  {
   "cell_type": "code",
   "execution_count": 67,
   "id": "53760e87",
   "metadata": {},
   "outputs": [
    {
     "data": {
      "text/plain": [
       "MannwhitneyuResult(statistic=0.0, pvalue=0.0)"
      ]
     },
     "execution_count": 67,
     "metadata": {},
     "output_type": "execute_result"
    }
   ],
   "source": [
    "# Mann–Whitney U test for Coltrol Group (without outliers) and Test Group\n",
    "# H0: THe distributions in the groups are identical\n",
    "\n",
    "stats.mannwhitneyu(paying_a_no_outliers.revenue, paying_b_full.revenue)"
   ]
  },
  {
   "cell_type": "code",
   "execution_count": 68,
   "id": "83cd22e3",
   "metadata": {},
   "outputs": [
    {
     "data": {
      "text/plain": [
       "MannwhitneyuResult(statistic=222015.0, pvalue=0.0)"
      ]
     },
     "execution_count": 68,
     "metadata": {},
     "output_type": "execute_result"
    }
   ],
   "source": [
    "# Mann–Whitney U test for Full Coltrol Group and Test Group\n",
    "\n",
    "stats.mannwhitneyu(paying_a_full.revenue, paying_b_full.revenue)"
   ]
  },
  {
   "cell_type": "markdown",
   "id": "de269621",
   "metadata": {},
   "source": [
    "In both the tests(control groups without outliers/test group amd full control group/test group) we received p=value < 0.05 which allows us to reject the Null Hypothesis that the distributions of the groups in the tests are identical. THat supports the assumption that the differences in means/ARPPUs between the control and test groups are statistically significant.\n",
    "\n",
    "In order to evaluate the borders of the changes, will use bootstrap method on the mean. Will apply bootstrap to check the difference in the Control Group (without outliers) and Test Group."
   ]
  },
  {
   "cell_type": "markdown",
   "id": "d1ff10a3",
   "metadata": {},
   "source": [
    "#### Bootstrap"
   ]
  },
  {
   "cell_type": "code",
   "execution_count": 88,
   "id": "1dd60a30",
   "metadata": {},
   "outputs": [],
   "source": [
    "# function allowing the cehck hypothesis wth the help of bootstrap\n",
    "def get_bootstrap(\n",
    "    data_column_1,  # values of the 1st sample\n",
    "    data_column_2,  # values of the 2nd sample\n",
    "    boot_it=1000,  # number of bootstrap sub-samples\n",
    "    statistic=np.mean,  # statistic we are checking\n",
    "    bootstrap_conf_level=0.95  # significance level\n",
    "):\n",
    "    boot_len = max([len(data_column_1), len(data_column_2)])\n",
    "    boot_data = []\n",
    "    for i in tqdm(range(boot_it)):  # taking sub-samples\n",
    "        samples_1 = data_column_1.sample(\n",
    "            boot_len,\n",
    "            replace=True  \n",
    "        ).values\n",
    "        samples_2 = data_column_2.sample(\n",
    "            boot_len,\n",
    "            replace=True\n",
    "        ).values\n",
    "        boot_data.append(statistic(samples_2 - samples_1))\n",
    "\n",
    "    pd_boot_data = pd.DataFrame(boot_data)\n",
    "    \n",
    "    left_quantile = (1 - bootstrap_conf_level) / 2\n",
    "    right_quantile = 1 - (1 - bootstrap_conf_level) / 2\n",
    "    conf_interval = pd_boot_data.quantile([left_quantile, right_quantile])\n",
    "    \n",
    "    p_1 = norm.cdf(\n",
    "        x=0,\n",
    "        loc=np.mean(boot_data),\n",
    "        scale=np.std(boot_data)\n",
    "    )\n",
    "    p_2 = norm.cdf(\n",
    "        x=0,\n",
    "        loc=-np.mean(boot_data),\n",
    "        scale=np.std(boot_data)\n",
    "    )\n",
    "    p_value = min(p_1, p_2) * 2\n",
    "    \n",
    "    # Visualization\n",
    "    plt.hist(pd_boot_data[0], bins=50, color='slategrey')\n",
    "    plt.style.use('ggplot')\n",
    "    plt.vlines(conf_interval, ymin=0, ymax=50, linestyle='--')\n",
    "    plt.xlabel('boot_data')\n",
    "    plt.ylabel('frequency')\n",
    "    plt.title(\"Histogram of boot data by mean\")\n",
    "    plt.show()\n",
    "    \n",
    "    return {\"boot_data\": boot_data,\n",
    "            \"ci\": conf_interval,\n",
    "            \"p_value\": p_value}"
   ]
  },
  {
   "cell_type": "code",
   "execution_count": 90,
   "id": "2ec17480",
   "metadata": {},
   "outputs": [
    {
     "data": {
      "application/vnd.jupyter.widget-view+json": {
       "model_id": "d3a43f875b1a43a19565306d11818a37",
       "version_major": 2,
       "version_minor": 0
      },
      "text/plain": [
       "  0%|          | 0/1000 [00:00<?, ?it/s]"
      ]
     },
     "metadata": {},
     "output_type": "display_data"
    },
    {
     "data": {
      "image/png": "[encoded data removed]",
      "text/plain": [
       "<Figure size 640x480 with 1 Axes>"
      ]
     },
     "metadata": {},
     "output_type": "display_data"
    },
    {
     "name": "stdout",
     "output_type": "stream",
     "text": [
      "p-value: 0.00\n"
     ]
    }
   ],
   "source": [
    "# Using bootstrap compare the means of the Control Group (without outliers) and the Test Group\n",
    "# H0 : means in the groups do not statistically differ\n",
    "\n",
    "booted_data_control_test = get_bootstrap(\n",
    "              paying_a_no_outliers.revenue,\n",
    "              paying_b_full.revenue)\n",
    "\n",
    "print(f'p-value: {booted_data_control_test[\"p_value\"]:.2f}')\n"
   ]
  },
  {
   "cell_type": "code",
   "execution_count": 91,
   "id": "e3f30605",
   "metadata": {},
   "outputs": [
    {
     "data": {
      "text/html": [
       "<div>\n",
       "<style scoped>\n",
       "    .dataframe tbody tr th:only-of-type {\n",
       "        vertical-align: middle;\n",
       "    }\n",
       "\n",
       "    .dataframe tbody tr th {\n",
       "        vertical-align: top;\n",
       "    }\n",
       "\n",
       "    .dataframe thead th {\n",
       "        text-align: right;\n",
       "    }\n",
       "</style>\n",
       "<table border=\"1\" class=\"dataframe\">\n",
       "  <thead>\n",
       "    <tr style=\"text-align: right;\">\n",
       "      <th></th>\n",
       "      <th>0</th>\n",
       "    </tr>\n",
       "  </thead>\n",
       "  <tbody>\n",
       "    <tr>\n",
       "      <th>0.025</th>\n",
       "      <td>2675.744086</td>\n",
       "    </tr>\n",
       "    <tr>\n",
       "      <th>0.975</th>\n",
       "      <td>2726.916108</td>\n",
       "    </tr>\n",
       "  </tbody>\n",
       "</table>\n",
       "</div>"
      ],
      "text/plain": [
       "                 0\n",
       "0.025  2675.744086\n",
       "0.975  2726.916108"
      ]
     },
     "execution_count": 91,
     "metadata": {},
     "output_type": "execute_result"
    }
   ],
   "source": [
    "# 95% confidence interval for difference between the Control Group (without outliers) and the Test Group\n",
    "booted_data_control_test[\"ci\"]"
   ]
  },
  {
   "cell_type": "code",
   "execution_count": 94,
   "id": "93523f16",
   "metadata": {},
   "outputs": [
    {
     "data": {
      "application/vnd.jupyter.widget-view+json": {
       "model_id": "306691e40e11413684507fee7af59fce",
       "version_major": 2,
       "version_minor": 0
      },
      "text/plain": [
       "  0%|          | 0/1000 [00:00<?, ?it/s]"
      ]
     },
     "metadata": {},
     "output_type": "display_data"
    },
    {
     "data": {
      "image/png": "[encoded data removed]",
      "text/plain": [
       "<Figure size 640x480 with 1 Axes>"
      ]
     },
     "metadata": {},
     "output_type": "display_data"
    },
    {
     "name": "stdout",
     "output_type": "stream",
     "text": [
      "p-value: 0.08\n"
     ]
    }
   ],
   "source": [
    "# Will compare the means of the Full Control Group  and the Test Group\n",
    "booted_data_full_control_test = get_bootstrap(\n",
    "              paying_a_full.revenue,\n",
    "              paying_b_full.revenue)\n",
    "\n",
    "print(f'p-value: {booted_data_full_control_test[\"p_value\"]:.2f}')\n"
   ]
  },
  {
   "cell_type": "code",
   "execution_count": 93,
   "id": "d6be1fde",
   "metadata": {},
   "outputs": [
    {
     "data": {
      "text/html": [
       "<div>\n",
       "<style scoped>\n",
       "    .dataframe tbody tr th:only-of-type {\n",
       "        vertical-align: middle;\n",
       "    }\n",
       "\n",
       "    .dataframe tbody tr th {\n",
       "        vertical-align: top;\n",
       "    }\n",
       "\n",
       "    .dataframe thead th {\n",
       "        text-align: right;\n",
       "    }\n",
       "</style>\n",
       "<table border=\"1\" class=\"dataframe\">\n",
       "  <thead>\n",
       "    <tr style=\"text-align: right;\">\n",
       "      <th></th>\n",
       "      <th>0</th>\n",
       "    </tr>\n",
       "  </thead>\n",
       "  <tbody>\n",
       "    <tr>\n",
       "      <th>0.025</th>\n",
       "      <td>-46.444113</td>\n",
       "    </tr>\n",
       "    <tr>\n",
       "      <th>0.975</th>\n",
       "      <td>704.179279</td>\n",
       "    </tr>\n",
       "  </tbody>\n",
       "</table>\n",
       "</div>"
      ],
      "text/plain": [
       "                0\n",
       "0.025  -46.444113\n",
       "0.975  704.179279"
      ]
     },
     "execution_count": 93,
     "metadata": {},
     "output_type": "execute_result"
    }
   ],
   "source": [
    "# 95% confidence interval for difference between the Full Control Group  and the Test Group\n",
    "booted_data_full_control_test[\"ci\"]"
   ]
  },
  {
   "cell_type": "markdown",
   "id": "4e8cf276",
   "metadata": {},
   "source": [
    "Bootstrap for difference in the mean proved the following:\n",
    "\n",
    "Means of the Control Group (without outliers) and the Test Group statistically differ with the p-value < 0.05. This allows us to reject the Null Hypothesis on the equality of the means. \n",
    "\n",
    "Measn of the Full Control Group and the Test Group do no statistically differ, p-value > 0.05. This does not allow to reject the Null Hypothesis. 0 is within the confidence interval though very close to the border. "
   ]
  },
  {
   "cell_type": "markdown",
   "id": "66015a4e",
   "metadata": {},
   "source": [
    "## CONSCLUSIONS"
   ]
  },
  {
   "cell_type": "markdown",
   "id": "86081a9b",
   "metadata": {},
   "source": [
    "1. In the Control Group there is a segment of customers with significanly higher revenues, which explains the outliers in the distribution of revenues in this group. Maximum revenue in this segment is 37433, which is considerably higher than the maximum in the same group but without outliers (400). In the Test Group there is no such a segment. \n",
    "\n",
    "2. Conversion in the Test Group is 0.06 p.p. or 6.65% lower than in the Control Group.  The probability of statistical randomness of such decrease is 0.03 which is less than the assumed border (alpha-level) of 0.05. \n",
    "\n",
    "\n",
    "3. It is possible that the decrease of the conversion rate in the test group can be explained by the absence of high-revenue customers. Other reasons can also affect the decrease, but to check them we will need more data. \n",
    "\n",
    "\n",
    "4. ARPPU is 12.75% higher in the Test Group compared to Full Control Group. While undergoing statistic tests for the Full Control Group and Test Group we could only prove statistically significant difference under Mann–Whitney U test, where p-value was less than 0.05. Bootstrap for the difference in the means and T-Test showed p-value > 0.05. However, it should be noted that T-test was not quite adequate in this situation (absence of normality and homoscedasticity of distributions) and under bootstrap p-value was quite close to the benchmark of 0.05 (even in the conditions of considerable outliers when we compared means), we can rely on the Mann–Whitney U test.\n",
    "\n",
    "\n",
    "5. When the outliers were excluded, we received increased in ARPPU by 893.08%. Statistical tests in this comparison showed p-value < 0.05. Bootstrap showed that the change is in the range between 2675.74 and 2726.91 with the probability of 95%.\n",
    "\n",
    "\n",
    "6. Generally speaking the set of offers for the Test Group turned out to be better with high probability. Despite the decrease in the Conversion Rate, ARPU metric increased by 5% in the Test Group.   \n",
    "\n",
    "\n",
    "7. New set of promotional offers can be used for all the customers. However, before doing this, it is recommended to make further research why the high-revenue segment disappeared from the Test Group and what are the possible actions to retain such customers. This will help to maintain conversion rate on the same level and increase total revenue.  "
   ]
  },
  {
   "cell_type": "code",
   "execution_count": null,
   "id": "d1ee311f",
   "metadata": {},
   "outputs": [],
   "source": []
  }
 ],
 "metadata": {
  "kernelspec": {
   "display_name": "Python 3 (ipykernel)",
   "language": "python",
   "name": "python3"
  },
  "language_info": {
   "codemirror_mode": {
    "name": "ipython",
    "version": 3
   },
   "file_extension": ".py",
   "mimetype": "text/x-python",
   "name": "python",
   "nbconvert_exporter": "python",
   "pygments_lexer": "ipython3",
   "version": "3.11.4"
  }
 },
 "nbformat": 4,
 "nbformat_minor": 5
}
